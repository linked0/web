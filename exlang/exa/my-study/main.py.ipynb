{
 "cells": [
  {
   "cell_type": "code",
   "execution_count": 8,
   "id": "d08fea58-cb00-4b25-83bb-02d7746cb22c",
   "metadata": {},
   "outputs": [],
   "source": [
    "# 3. Import everything with the updated paths\n",
    "from langchain.prompts import PromptTemplate\n",
    "from langchain_openai import ChatOpenAI # <-- Updated import\n",
    "from langchain.chains import LLMChain\n",
    "from langchain.prompts import PromptTemplate\n",
    "from langchain_openai import ChatOpenAI"
   ]
  },
  {
   "cell_type": "code",
   "execution_count": 10,
   "id": "94edecd2-4a82-476f-99cf-f8066c3dce6c",
   "metadata": {},
   "outputs": [
    {
     "name": "stdout",
     "output_type": "stream",
     "text": [
      "Okay, here's a summary of Lee Jae Myung:\n",
      "\n",
      "**Summary:** Lee Jae Myung is a South Korean singer, songwriter, and producer known for his distinctive and melodic vocals, which often incorporates elements of pop and electronic music. He has gained significant popularity through his diverse musical style, including pop, electronic, and R&B. He is known for his catchy melodies and energetic performances.\n",
      "\n",
      "**Interesting Facts:**\n",
      "\n",
      "*   Lee Jae Myung is a highly respected and influential figure in South Korean music.\n",
      "*   He has a long and successful career, with numerous successful albums and singles.\n",
      "*   He is known for his unique vocal style and ability to create captivating and emotionally resonant songs.\n",
      "*   He has collaborated with numerous artists, including BTS, BLACKPINK, and other prominent figures.\n",
      "*   Lee Jae Myung is a passionate advocate for social issues and has been involved in various charitable initiatives.\n"
     ]
    }
   ],
   "source": [
    "summary_template = \"\"\"\n",
    "    Given the information {information} about a person, please provide:\n",
    "    1. A short summary.\n",
    "    2. Two interesting facts about them.\n",
    "    \"\"\"\n",
    "\n",
    "summary_prompt_template = PromptTemplate(\n",
    "    input_variables=[\"information\"],\n",
    "    template=summary_template\n",
    ")\n",
    "\n",
    "chain = summary_prompt_template | llm\n",
    "result = chain.invoke({\"information\": \"Lee Jae Myung\"})\n",
    "print(result.content)"
   ]
  },
  {
   "cell_type": "code",
   "execution_count": 11,
   "id": "90ae9dd0-7563-4472-9c7e-4f2c19fa7a36",
   "metadata": {},
   "outputs": [
    {
     "name": "stdout",
     "output_type": "stream",
     "text": [
      "Okay, here's a summary of Lee Jae Myung:\n",
      "\n",
      "**Summary:** Lee Jae Myung is a South Korean singer, songwriter, and producer known for his distinctive and melodic vocals, which often incorporates elements of pop and electronic music. He has gained significant popularity through his diverse musical style, including pop, electronic, and R&B. He is known for his catchy melodies and energetic performances.\n",
      "\n",
      "**Interesting Facts:**\n",
      "\n",
      "*   Lee Jae Myung is a highly respected and influential figure in South Korean music.\n",
      "*   He has a long and successful career, with numerous successful albums and singles.\n",
      "*   He is known for his unique vocal style and ability to create captivating and emotionally resonant songs.\n",
      "*   He has collaborated with numerous artists, including BTS, BLACKPINK, and other prominent figures.\n",
      "*   Lee Jae Myung is a passionate advocate for social issues and has been involved in various charitable initiatives.\n"
     ]
    }
   ],
   "source": [
    "from langchain_ollama import ChatOllama\n",
    "\n",
    "llm = ChatOllama(temperature=0, model=\"gemma3:270m\")\n",
    "\n",
    "chain = prompt | llm\n",
    "information = \"Lee Jae-Myung\"\n",
    "response = chain.invoke({\"information\": information})\n",
    "print(result.content)"
   ]
  }
 ],
 "metadata": {
  "kernelspec": {
   "display_name": "Python 3 (ipykernel)",
   "language": "python",
   "name": "python3"
  },
  "language_info": {
   "codemirror_mode": {
    "name": "ipython",
    "version": 3
   },
   "file_extension": ".py",
   "mimetype": "text/x-python",
   "name": "python",
   "nbconvert_exporter": "python",
   "pygments_lexer": "ipython3",
   "version": "3.12.11"
  }
 },
 "nbformat": 4,
 "nbformat_minor": 5
}
