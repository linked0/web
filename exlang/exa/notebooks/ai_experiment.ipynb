{
 "cells": [
  {
   "cell_type": "code",
   "execution_count": 5,
   "id": "1e8994a1-70ea-4e86-afac-f9ec76caf45b",
   "metadata": {},
   "outputs": [],
   "source": [
    "# 3. Import everything with the updated paths\n",
    "from langchain.prompts import PromptTemplate\n",
    "from langchain_openai import ChatOpenAI # <-- Updated import\n",
    "from langchain.chains import LLMChain\n",
    "\n",
    "# 4. Your code can now run as expected\n",
    "summary_template = \"\"\"\n",
    "given the {information} about a person I want you to create:\n",
    "1. A short summary\n",
    "2. two interesting facts about them\n",
    "\"\"\""
   ]
  },
  {
   "cell_type": "code",
   "execution_count": 4,
   "id": "c67934b8-f729-4ffb-8e53-37dc6da0e521",
   "metadata": {},
   "outputs": [
    {
     "name": "stdout",
     "output_type": "stream",
     "text": [
      "\u001b[2K\u001b[2mResolved \u001b[1m158 packages\u001b[0m \u001b[2min 133ms\u001b[0m\u001b[0m                                       \u001b[0m\n",
      "\u001b[2K\u001b[2mPrepared \u001b[1m3 packages\u001b[0m \u001b[2min 330ms\u001b[0m\u001b[0m                                             \n",
      "\u001b[2K\u001b[2mInstalled \u001b[1m7 packages\u001b[0m \u001b[2min 24ms\u001b[0m\u001b[0m                                \u001b[0m\n",
      " \u001b[32m+\u001b[39m \u001b[1mdistro\u001b[0m\u001b[2m==1.9.0\u001b[0m\n",
      " \u001b[32m+\u001b[39m \u001b[1mjiter\u001b[0m\u001b[2m==0.11.0\u001b[0m\n",
      " \u001b[32m+\u001b[39m \u001b[1mlangchain-openai\u001b[0m\u001b[2m==0.3.33\u001b[0m\n",
      " \u001b[32m+\u001b[39m \u001b[1mopenai\u001b[0m\u001b[2m==1.109.1\u001b[0m\n",
      " \u001b[32m+\u001b[39m \u001b[1mregex\u001b[0m\u001b[2m==2025.9.18\u001b[0m\n",
      " \u001b[32m+\u001b[39m \u001b[1mtiktoken\u001b[0m\u001b[2m==0.11.0\u001b[0m\n",
      " \u001b[32m+\u001b[39m \u001b[1mtqdm\u001b[0m\u001b[2m==4.67.1\u001b[0m\n"
     ]
    }
   ],
   "source": [
    "!uv add langchain_openai\n"
   ]
  },
  {
   "cell_type": "code",
   "execution_count": 8,
   "id": "850d199c-752d-4e60-9f4f-aff127858de5",
   "metadata": {},
   "outputs": [
    {
     "name": "stdout",
     "output_type": "stream",
     "text": [
      "Lee Jae-myung is a South Korean politician and member of the Democratic Party of Korea. He has served as the Governor of Gyeonggi Province and was a prominent candidate in the 2022 South Korean presidential election. Known for his progressive policies, he has focused on issues such as social welfare, economic reform, and housing.\n",
      "\n",
      "### Summary:\n",
      "Lee Jae-myung is a notable South Korean politician recognized for his leadership as the Governor of Gyeonggi Province and his candidacy in the 2022 presidential election. He advocates for progressive reforms aimed at improving social welfare and economic conditions in South Korea.\n",
      "\n",
      "### Interesting Facts:\n",
      "1. **Innovative Welfare Programs**: As Governor of Gyeonggi Province, Lee implemented several innovative welfare programs, including a universal basic income initiative aimed at providing financial support to residents, which garnered significant attention and debate in South Korea.\n",
      "\n",
      "2. **Controversial Background**: Lee has a unique personal history; he rose from humble beginnings, having worked various jobs, including as a laborer and a restaurant owner, before entering politics. His life story resonates with many South Koreans, contributing to his popularity among voters seeking relatable leadership.\n"
     ]
    }
   ],
   "source": [
    "from langchain.prompts import PromptTemplate\n",
    "from langchain_openai import ChatOpenAI\n",
    "\n",
    "prompt = PromptTemplate.from_template(\"\"\"given the {information} about a person create:\n",
    "1) A short summary\n",
    "2) Two interesting facts\"\"\")\n",
    "llm = ChatOpenAI(model=\"gpt-4o-mini\", temperature=0)\n",
    "\n",
    "chain = prompt | llm\n",
    "result = chain.invoke({\"information\": \"Lee Jae Myung\"})\n",
    "print(result.content)\n"
   ]
  },
  {
   "cell_type": "code",
   "execution_count": null,
   "id": "17472cb4-81e4-4349-acf1-8fcfa435468d",
   "metadata": {},
   "outputs": [],
   "source": []
  }
 ],
 "metadata": {
  "kernelspec": {
   "display_name": "uv-312",
   "language": "python",
   "name": "uv-312"
  },
  "language_info": {
   "codemirror_mode": {
    "name": "ipython",
    "version": 3
   },
   "file_extension": ".py",
   "mimetype": "text/x-python",
   "name": "python",
   "nbconvert_exporter": "python",
   "pygments_lexer": "ipython3",
   "version": "3.12.11"
  }
 },
 "nbformat": 4,
 "nbformat_minor": 5
}
