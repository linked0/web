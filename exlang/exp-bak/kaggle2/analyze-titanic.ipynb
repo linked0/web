{
 "cells": [
  {
   "cell_type": "code",
   "execution_count": 21,
   "metadata": {
    "collapsed": false,
    "scrolled": false
   },
   "outputs": [
    {
     "name": "stderr",
     "output_type": "stream",
     "text": [
      "base_data.py:14:__init__:\tstart\n",
      "base_data.py:51:set_data_file:\tstart\n",
      "base_data.py:173:load_train_data:\t##### specified data columns: ['Pclass', 'Sex', 'Age', 'SibSp', 'Parch', 'Fare', 'Embarked']\n",
      "base_data.py:176:load_train_data:\ttest data: \n",
      "   Pclass     Sex   Age  SibSp  Parch     Fare Embarked\n",
      "0       3    male  22.0      1      0   7.2500        S\n",
      "1       1  female  38.0      1      0  71.2833        C\n",
      "2       3  female  26.0      0      0   7.9250        S\n",
      "3       1  female  35.0      1      0  53.1000        S\n",
      "4       3    male  35.0      0      0   8.0500        S\n",
      "5       3    male   NaN      0      0   8.4583        Q\n",
      "6       1    male  54.0      0      0  51.8625        S\n",
      "7       3    male   2.0      3      1  21.0750        S\n",
      "8       3  female  27.0      0      2  11.1333        S\n",
      "9       2  female  14.0      1      0  30.0708        C\n"
     ]
    },
    {
     "data": {
      "text/plain": [
       "(     Pclass     Sex   Age  SibSp  Parch      Fare Embarked\n",
       " 0         3    male  22.0      1      0    7.2500        S\n",
       " 1         1  female  38.0      1      0   71.2833        C\n",
       " 2         3  female  26.0      0      0    7.9250        S\n",
       " 3         1  female  35.0      1      0   53.1000        S\n",
       " 4         3    male  35.0      0      0    8.0500        S\n",
       " 5         3    male   NaN      0      0    8.4583        Q\n",
       " 6         1    male  54.0      0      0   51.8625        S\n",
       " 7         3    male   2.0      3      1   21.0750        S\n",
       " 8         3  female  27.0      0      2   11.1333        S\n",
       " 9         2  female  14.0      1      0   30.0708        C\n",
       " 10        3  female   4.0      1      1   16.7000        S\n",
       " 11        1  female  58.0      0      0   26.5500        S\n",
       " 12        3    male  20.0      0      0    8.0500        S\n",
       " 13        3    male  39.0      1      5   31.2750        S\n",
       " 14        3  female  14.0      0      0    7.8542        S\n",
       " 15        2  female  55.0      0      0   16.0000        S\n",
       " 16        3    male   2.0      4      1   29.1250        Q\n",
       " 17        2    male   NaN      0      0   13.0000        S\n",
       " 18        3  female  31.0      1      0   18.0000        S\n",
       " 19        3  female   NaN      0      0    7.2250        C\n",
       " 20        2    male  35.0      0      0   26.0000        S\n",
       " 21        2    male  34.0      0      0   13.0000        S\n",
       " 22        3  female  15.0      0      0    8.0292        Q\n",
       " 23        1    male  28.0      0      0   35.5000        S\n",
       " 24        3  female   8.0      3      1   21.0750        S\n",
       " 25        3  female  38.0      1      5   31.3875        S\n",
       " 26        3    male   NaN      0      0    7.2250        C\n",
       " 27        1    male  19.0      3      2  263.0000        S\n",
       " 28        3  female   NaN      0      0    7.8792        Q\n",
       " 29        3    male   NaN      0      0    7.8958        S\n",
       " ..      ...     ...   ...    ...    ...       ...      ...\n",
       " 861       2    male  21.0      1      0   11.5000        S\n",
       " 862       1  female  48.0      0      0   25.9292        S\n",
       " 863       3  female   NaN      8      2   69.5500        S\n",
       " 864       2    male  24.0      0      0   13.0000        S\n",
       " 865       2  female  42.0      0      0   13.0000        S\n",
       " 866       2  female  27.0      1      0   13.8583        C\n",
       " 867       1    male  31.0      0      0   50.4958        S\n",
       " 868       3    male   NaN      0      0    9.5000        S\n",
       " 869       3    male   4.0      1      1   11.1333        S\n",
       " 870       3    male  26.0      0      0    7.8958        S\n",
       " 871       1  female  47.0      1      1   52.5542        S\n",
       " 872       1    male  33.0      0      0    5.0000        S\n",
       " 873       3    male  47.0      0      0    9.0000        S\n",
       " 874       2  female  28.0      1      0   24.0000        C\n",
       " 875       3  female  15.0      0      0    7.2250        C\n",
       " 876       3    male  20.0      0      0    9.8458        S\n",
       " 877       3    male  19.0      0      0    7.8958        S\n",
       " 878       3    male   NaN      0      0    7.8958        S\n",
       " 879       1  female  56.0      0      1   83.1583        C\n",
       " 880       2  female  25.0      0      1   26.0000        S\n",
       " 881       3    male  33.0      0      0    7.8958        S\n",
       " 882       3  female  22.0      0      0   10.5167        S\n",
       " 883       2    male  28.0      0      0   10.5000        S\n",
       " 884       3    male  25.0      0      0    7.0500        S\n",
       " 885       3  female  39.0      0      5   29.1250        Q\n",
       " 886       2    male  27.0      0      0   13.0000        S\n",
       " 887       1  female  19.0      0      0   30.0000        S\n",
       " 888       3  female   NaN      1      2   23.4500        S\n",
       " 889       1    male  26.0      0      0   30.0000        C\n",
       " 890       3    male  32.0      0      0    7.7500        Q\n",
       " \n",
       " [891 rows x 7 columns], 0      0\n",
       " 1      1\n",
       " 2      1\n",
       " 3      1\n",
       " 4      0\n",
       " 5      0\n",
       " 6      0\n",
       " 7      0\n",
       " 8      1\n",
       " 9      1\n",
       " 10     1\n",
       " 11     1\n",
       " 12     0\n",
       " 13     0\n",
       " 14     0\n",
       " 15     1\n",
       " 16     0\n",
       " 17     1\n",
       " 18     0\n",
       " 19     1\n",
       " 20     0\n",
       " 21     1\n",
       " 22     1\n",
       " 23     1\n",
       " 24     0\n",
       " 25     1\n",
       " 26     0\n",
       " 27     0\n",
       " 28     1\n",
       " 29     0\n",
       "       ..\n",
       " 861    0\n",
       " 862    1\n",
       " 863    0\n",
       " 864    0\n",
       " 865    1\n",
       " 866    1\n",
       " 867    0\n",
       " 868    0\n",
       " 869    1\n",
       " 870    0\n",
       " 871    1\n",
       " 872    0\n",
       " 873    0\n",
       " 874    1\n",
       " 875    1\n",
       " 876    0\n",
       " 877    0\n",
       " 878    0\n",
       " 879    1\n",
       " 880    1\n",
       " 881    0\n",
       " 882    0\n",
       " 883    0\n",
       " 884    0\n",
       " 885    0\n",
       " 886    0\n",
       " 887    1\n",
       " 888    0\n",
       " 889    1\n",
       " 890    0\n",
       " Name: Survived, dtype: int64)"
      ]
     },
     "execution_count": 21,
     "metadata": {},
     "output_type": "execute_result"
    }
   ],
   "source": [
    "import kaggle_command as cmd\n",
    "import preprocess_data.base_data as bd\n",
    "reload(bd)\n",
    "from preprocess_data.base_data import BaseData\n",
    "\n",
    "basedt = BaseData()\n",
    "basedt.set_data_file('./data/train.csv')\n",
    "basedt.set_columns(['Pclass', 'Sex', 'Age', 'SibSp', 'Parch', 'Fare', 'Embarked'])\n",
    "basedt.load_train_data()"
   ]
  },
  {
   "cell_type": "code",
   "execution_count": 18,
   "metadata": {
    "collapsed": false
   },
   "outputs": [
    {
     "ename": "NameError",
     "evalue": "name 'fare' is not defined",
     "output_type": "error",
     "traceback": [
      "\u001b[0;31m---------------------------------------------------------------------------\u001b[0m",
      "\u001b[0;31mNameError\u001b[0m                                 Traceback (most recent call last)",
      "\u001b[0;32m<ipython-input-18-2d8681b98fb2>\u001b[0m in \u001b[0;36m<module>\u001b[0;34m()\u001b[0m\n\u001b[0;32m----> 1\u001b[0;31m \u001b[0mminfare\u001b[0m\u001b[0;34m,\u001b[0m \u001b[0mmaxfare\u001b[0m \u001b[0;34m=\u001b[0m \u001b[0mmin\u001b[0m\u001b[0;34m(\u001b[0m\u001b[0mfare\u001b[0m\u001b[0;34m)\u001b[0m\u001b[0;34m,\u001b[0m \u001b[0mmax\u001b[0m\u001b[0;34m(\u001b[0m\u001b[0mfare\u001b[0m\u001b[0;34m)\u001b[0m\u001b[0;34m\u001b[0m\u001b[0m\n\u001b[0m\u001b[1;32m      2\u001b[0m \u001b[0mminfare\u001b[0m\u001b[0;34m,\u001b[0m\u001b[0mmaxfare\u001b[0m\u001b[0;34m\u001b[0m\u001b[0m\n\u001b[1;32m      3\u001b[0m \u001b[0;32mimport\u001b[0m \u001b[0mnumpy\u001b[0m \u001b[0;32mas\u001b[0m \u001b[0mnp\u001b[0m\u001b[0;34m\u001b[0m\u001b[0m\n\u001b[1;32m      4\u001b[0m \u001b[0mbins\u001b[0m \u001b[0;34m=\u001b[0m \u001b[0mnp\u001b[0m\u001b[0;34m.\u001b[0m\u001b[0mlinspace\u001b[0m\u001b[0;34m(\u001b[0m\u001b[0mminfare\u001b[0m\u001b[0;34m,\u001b[0m \u001b[0mmaxfare\u001b[0m\u001b[0;34m,\u001b[0m \u001b[0;36m25\u001b[0m\u001b[0;34m)\u001b[0m\u001b[0;34m\u001b[0m\u001b[0m\n\u001b[1;32m      5\u001b[0m \u001b[0mlen\u001b[0m\u001b[0;34m(\u001b[0m\u001b[0mbins\u001b[0m\u001b[0;34m)\u001b[0m\u001b[0;34m\u001b[0m\u001b[0m\n",
      "\u001b[0;31mNameError\u001b[0m: name 'fare' is not defined"
     ]
    }
   ],
   "source": [
    "minfare, maxfare = min(fare), max(fare)\n",
    "minfare,maxfare\n",
    "import numpy as np\n",
    "bins = np.linspace(minfare, maxfare, 25)\n",
    "len(bins)"
   ]
  },
  {
   "cell_type": "code",
   "execution_count": 10,
   "metadata": {
    "collapsed": true
   },
   "outputs": [],
   "source": [
    "fare_surv_counts, _ = np.histogram(fare_surv, bins)\n",
    "fare_died_counts, _ = np.histogram(fare_died, bins)"
   ]
  },
  {
   "cell_type": "code",
   "execution_count": 17,
   "metadata": {
    "collapsed": false
   },
   "outputs": [
    {
     "data": {
      "text/plain": [
       "251"
      ]
     },
     "execution_count": 17,
     "metadata": {},
     "output_type": "execute_result"
    }
   ],
   "source": [
    "len(np.unique(fare))"
   ]
  },
  {
   "cell_type": "code",
   "execution_count": 4,
   "metadata": {
    "collapsed": true
   },
   "outputs": [],
   "source": [
    "import preprocess_data.preprocess_v2 as prep"
   ]
  },
  {
   "cell_type": "code",
   "execution_count": 5,
   "metadata": {
    "collapsed": false
   },
   "outputs": [
    {
     "data": {
      "text/plain": [
       "<preprocess_data.kaggle_data.KaggleData at 0x1069e73d0>"
      ]
     },
     "execution_count": 5,
     "metadata": {},
     "output_type": "execute_result"
    }
   ],
   "source": [
    "prep.data_store"
   ]
  },
  {
   "cell_type": "code",
   "execution_count": 6,
   "metadata": {
    "collapsed": true
   },
   "outputs": [],
   "source": [
    "ds = prep.data_store"
   ]
  },
  {
   "cell_type": "code",
   "execution_count": 7,
   "metadata": {
    "collapsed": false
   },
   "outputs": [
    {
     "data": {
      "text/plain": [
       "<preprocess_data.kaggle_data.KaggleData at 0x1069e73d0>"
      ]
     },
     "execution_count": 7,
     "metadata": {},
     "output_type": "execute_result"
    }
   ],
   "source": [
    "ds"
   ]
  },
  {
   "cell_type": "code",
   "execution_count": 8,
   "metadata": {
    "collapsed": false
   },
   "outputs": [
    {
     "data": {
      "text/plain": [
       "True"
      ]
     },
     "execution_count": 8,
     "metadata": {},
     "output_type": "execute_result"
    }
   ],
   "source": [
    "ds.preprocessed"
   ]
  },
  {
   "cell_type": "code",
   "execution_count": 22,
   "metadata": {
    "collapsed": false
   },
   "outputs": [
    {
     "ename": "NameError",
     "evalue": "name 'plt' is not defined",
     "output_type": "error",
     "traceback": [
      "\u001b[0;31m---------------------------------------------------------------------------\u001b[0m",
      "\u001b[0;31mNameError\u001b[0m                                 Traceback (most recent call last)",
      "\u001b[0;32m<ipython-input-22-9e2214b791fd>\u001b[0m in \u001b[0;36m<module>\u001b[0;34m()\u001b[0m\n\u001b[0;32m----> 1\u001b[0;31m \u001b[0mfig\u001b[0m \u001b[0;34m=\u001b[0m \u001b[0mplt\u001b[0m\u001b[0;34m.\u001b[0m\u001b[0mfigure\u001b[0m\u001b[0;34m(\u001b[0m\u001b[0;34m)\u001b[0m\u001b[0;34m\u001b[0m\u001b[0m\n\u001b[0m",
      "\u001b[0;31mNameError\u001b[0m: name 'plt' is not defined"
     ]
    }
   ],
   "source": [
    "fig = plt.figure()"
   ]
  },
  {
   "cell_type": "code",
   "execution_count": 34,
   "metadata": {
    "collapsed": true
   },
   "outputs": [],
   "source": [
    "import matplotlib.pyplot as plt\n",
    "%config InlineBackend.close_figures=False"
   ]
  },
  {
   "cell_type": "code",
   "execution_count": 35,
   "metadata": {
    "collapsed": true
   },
   "outputs": [],
   "source": [
    "fig = plt.figure()"
   ]
  },
  {
   "cell_type": "code",
   "execution_count": 36,
   "metadata": {
    "collapsed": true
   },
   "outputs": [],
   "source": [
    "ax1 = fig.add_subplot(2,2,1)"
   ]
  },
  {
   "cell_type": "code",
   "execution_count": 37,
   "metadata": {
    "collapsed": false
   },
   "outputs": [
    {
     "data": {
      "text/plain": [
       "(array([  2.,   2.,   6.,   4.,   7.,   6.,   8.,  13.,  10.,   7.,  11.,   6.,   7.,   4.,   3.,   1.,   0.,   1.,   1.,   1.]),\n",
       " array([-2.16663192, -1.89297909, -1.61932625, -1.34567342, -1.07202058, -0.79836774, -0.52471491, -0.25106207,  0.02259076,  0.2962436 ,  0.56989644,  0.84354927,  1.11720211,  1.39085494,  1.66450778,  1.93816062,  2.21181345,  2.48546629,  2.75911912,  3.03277196,  3.3064248 ]),\n",
       " <a list of 20 Patch objects>)"
      ]
     },
     "execution_count": 37,
     "metadata": {},
     "output_type": "execute_result"
    }
   ],
   "source": [
    "from numpy.random import randn\n",
    "ax1.hist(randn(100), bins=20, color='k', alpha=0.3)"
   ]
  },
  {
   "cell_type": "code",
   "execution_count": 38,
   "metadata": {
    "collapsed": false
   },
   "outputs": [
    {
     "data": {
      "image/png": "[encoded data removed]",
      "text/plain": [
       "<matplotlib.figure.Figure at 0x1170ca710>"
      ]
     },
     "metadata": {},
     "output_type": "display_data"
    }
   ],
   "source": [
    "plt.show()"
   ]
  },
  {
   "cell_type": "code",
   "execution_count": 39,
   "metadata": {
    "collapsed": true
   },
   "outputs": [],
   "source": [
    "ax2 = fig.add_subplot(2,2,2)"
   ]
  },
  {
   "cell_type": "code",
   "execution_count": 40,
   "metadata": {
    "collapsed": false
   },
   "outputs": [
    {
     "data": {
      "text/plain": [
       "[<matplotlib.lines.Line2D at 0x117043090>]"
      ]
     },
     "execution_count": 40,
     "metadata": {},
     "output_type": "execute_result"
    }
   ],
   "source": [
    "ax2.plot(randn(50).cumsum(), 'k--')"
   ]
  },
  {
   "cell_type": "code",
   "execution_count": 41,
   "metadata": {
    "collapsed": false
   },
   "outputs": [
    {
     "data": {
      "image/png": "[encoded data removed]",
      "text/plain": [
       "<matplotlib.figure.Figure at 0x1170ca710>"
      ]
     },
     "metadata": {},
     "output_type": "display_data"
    }
   ],
   "source": [
    "plt.show()"
   ]
  },
  {
   "cell_type": "code",
   "execution_count": 43,
   "metadata": {
    "collapsed": false
   },
   "outputs": [],
   "source": [
    "ax3 = fig.add_subplot(2,2,3)"
   ]
  },
  {
   "cell_type": "code",
   "execution_count": 44,
   "metadata": {
    "collapsed": true
   },
   "outputs": [],
   "source": [
    "data = randn(30).cumsum()"
   ]
  },
  {
   "cell_type": "code",
   "execution_count": 47,
   "metadata": {
    "collapsed": false
   },
   "outputs": [
    {
     "data": {
      "text/plain": [
       "[<matplotlib.lines.Line2D at 0x117449ed0>]"
      ]
     },
     "execution_count": 47,
     "metadata": {},
     "output_type": "execute_result"
    }
   ],
   "source": [
    "ax3.plot(data, 'k--', label='Default')"
   ]
  },
  {
   "cell_type": "code",
   "execution_count": 48,
   "metadata": {
    "collapsed": false
   },
   "outputs": [
    {
     "data": {
      "image/png": "[encoded data removed]",
      "text/plain": [
       "<matplotlib.figure.Figure at 0x1170ca710>"
      ]
     },
     "metadata": {},
     "output_type": "display_data"
    }
   ],
   "source": [
    "plt.show()"
   ]
  },
  {
   "cell_type": "code",
   "execution_count": 49,
   "metadata": {
    "collapsed": false
   },
   "outputs": [
    {
     "data": {
      "text/plain": [
       "[<matplotlib.lines.Line2D at 0x11746d910>]"
      ]
     },
     "execution_count": 49,
     "metadata": {},
     "output_type": "execute_result"
    }
   ],
   "source": [
    "plt.plot(data, 'k-', drawstyle='steps-post', label='steps-post')"
   ]
  },
  {
   "cell_type": "code",
   "execution_count": 50,
   "metadata": {
    "collapsed": false
   },
   "outputs": [
    {
     "data": {
      "image/png": "[encoded data removed]",
      "text/plain": [
       "<matplotlib.figure.Figure at 0x1170ca710>"
      ]
     },
     "metadata": {},
     "output_type": "display_data"
    }
   ],
   "source": [
    "plt.show()"
   ]
  },
  {
   "cell_type": "code",
   "execution_count": null,
   "metadata": {
    "collapsed": true
   },
   "outputs": [],
   "source": []
  }
 ],
 "metadata": {
  "anaconda-cloud": {},
  "kernelspec": {
   "display_name": "Python [conda root]",
   "language": "python",
   "name": "conda-root-py"
  },
  "language_info": {
   "codemirror_mode": {
    "name": "ipython",
    "version": 2
   },
   "file_extension": ".py",
   "mimetype": "text/x-python",
   "name": "python",
   "nbconvert_exporter": "python",
   "pygments_lexer": "ipython2",
   "version": "2.7.12"
  }
 },
 "nbformat": 4,
 "nbformat_minor": 1
}
